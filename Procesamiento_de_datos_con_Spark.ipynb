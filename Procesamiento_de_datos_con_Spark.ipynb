{
  "nbformat": 4,
  "nbformat_minor": 0,
  "metadata": {
    "colab": {
      "provenance": [],
      "authorship_tag": "ABX9TyMRrvfhMDBpSEW3DCowsd7d",
      "include_colab_link": true
    },
    "kernelspec": {
      "name": "python3",
      "display_name": "Python 3"
    },
    "language_info": {
      "name": "python"
    }
  },
  "cells": [
    {
      "cell_type": "markdown",
      "metadata": {
        "id": "view-in-github",
        "colab_type": "text"
      },
      "source": [
        "<a href=\"https://colab.research.google.com/github/SnakeWithGlasses/Spark-practicas/blob/main/Procesamiento_de_datos_con_Spark.ipynb\" target=\"_parent\"><img src=\"https://colab.research.google.com/assets/colab-badge.svg\" alt=\"Open In Colab\"/></a>"
      ]
    },
    {
      "cell_type": "markdown",
      "source": [
        "Conectado el notebook a Google Colab"
      ],
      "metadata": {
        "id": "FcFi_ZoiCb9B"
      }
    },
    {
      "cell_type": "code",
      "source": [
        "from google.colab import drive\n",
        "drive.mount('/content/drive')"
      ],
      "metadata": {
        "colab": {
          "base_uri": "https://localhost:8080/",
          "height": 350
        },
        "id": "Gl7adjVFCcdj",
        "outputId": "3e394d1b-af8d-4439-ca8e-c95d83675c8c"
      },
      "execution_count": 1,
      "outputs": [
        {
          "output_type": "error",
          "ename": "MessageError",
          "evalue": "Error: credential propagation was unsuccessful",
          "traceback": [
            "\u001b[0;31m---------------------------------------------------------------------------\u001b[0m",
            "\u001b[0;31mMessageError\u001b[0m                              Traceback (most recent call last)",
            "\u001b[0;32m<ipython-input-1-d5df0069828e>\u001b[0m in \u001b[0;36m<cell line: 0>\u001b[0;34m()\u001b[0m\n\u001b[1;32m      1\u001b[0m \u001b[0;32mfrom\u001b[0m \u001b[0mgoogle\u001b[0m\u001b[0;34m.\u001b[0m\u001b[0mcolab\u001b[0m \u001b[0;32mimport\u001b[0m \u001b[0mdrive\u001b[0m\u001b[0;34m\u001b[0m\u001b[0;34m\u001b[0m\u001b[0m\n\u001b[0;32m----> 2\u001b[0;31m \u001b[0mdrive\u001b[0m\u001b[0;34m.\u001b[0m\u001b[0mmount\u001b[0m\u001b[0;34m(\u001b[0m\u001b[0;34m'/content/drive'\u001b[0m\u001b[0;34m)\u001b[0m\u001b[0;34m\u001b[0m\u001b[0;34m\u001b[0m\u001b[0m\n\u001b[0m",
            "\u001b[0;32m/usr/local/lib/python3.11/dist-packages/google/colab/drive.py\u001b[0m in \u001b[0;36mmount\u001b[0;34m(mountpoint, force_remount, timeout_ms, readonly)\u001b[0m\n\u001b[1;32m     98\u001b[0m \u001b[0;32mdef\u001b[0m \u001b[0mmount\u001b[0m\u001b[0;34m(\u001b[0m\u001b[0mmountpoint\u001b[0m\u001b[0;34m,\u001b[0m \u001b[0mforce_remount\u001b[0m\u001b[0;34m=\u001b[0m\u001b[0;32mFalse\u001b[0m\u001b[0;34m,\u001b[0m \u001b[0mtimeout_ms\u001b[0m\u001b[0;34m=\u001b[0m\u001b[0;36m120000\u001b[0m\u001b[0;34m,\u001b[0m \u001b[0mreadonly\u001b[0m\u001b[0;34m=\u001b[0m\u001b[0;32mFalse\u001b[0m\u001b[0;34m)\u001b[0m\u001b[0;34m:\u001b[0m\u001b[0;34m\u001b[0m\u001b[0;34m\u001b[0m\u001b[0m\n\u001b[1;32m     99\u001b[0m   \u001b[0;34m\"\"\"Mount your Google Drive at the specified mountpoint path.\"\"\"\u001b[0m\u001b[0;34m\u001b[0m\u001b[0;34m\u001b[0m\u001b[0m\n\u001b[0;32m--> 100\u001b[0;31m   return _mount(\n\u001b[0m\u001b[1;32m    101\u001b[0m       \u001b[0mmountpoint\u001b[0m\u001b[0;34m,\u001b[0m\u001b[0;34m\u001b[0m\u001b[0;34m\u001b[0m\u001b[0m\n\u001b[1;32m    102\u001b[0m       \u001b[0mforce_remount\u001b[0m\u001b[0;34m=\u001b[0m\u001b[0mforce_remount\u001b[0m\u001b[0;34m,\u001b[0m\u001b[0;34m\u001b[0m\u001b[0;34m\u001b[0m\u001b[0m\n",
            "\u001b[0;32m/usr/local/lib/python3.11/dist-packages/google/colab/drive.py\u001b[0m in \u001b[0;36m_mount\u001b[0;34m(mountpoint, force_remount, timeout_ms, ephemeral, readonly)\u001b[0m\n\u001b[1;32m    135\u001b[0m   )\n\u001b[1;32m    136\u001b[0m   \u001b[0;32mif\u001b[0m \u001b[0mephemeral\u001b[0m\u001b[0;34m:\u001b[0m\u001b[0;34m\u001b[0m\u001b[0;34m\u001b[0m\u001b[0m\n\u001b[0;32m--> 137\u001b[0;31m     _message.blocking_request(\n\u001b[0m\u001b[1;32m    138\u001b[0m         \u001b[0;34m'request_auth'\u001b[0m\u001b[0;34m,\u001b[0m\u001b[0;34m\u001b[0m\u001b[0;34m\u001b[0m\u001b[0m\n\u001b[1;32m    139\u001b[0m         \u001b[0mrequest\u001b[0m\u001b[0;34m=\u001b[0m\u001b[0;34m{\u001b[0m\u001b[0;34m'authType'\u001b[0m\u001b[0;34m:\u001b[0m \u001b[0;34m'dfs_ephemeral'\u001b[0m\u001b[0;34m}\u001b[0m\u001b[0;34m,\u001b[0m\u001b[0;34m\u001b[0m\u001b[0;34m\u001b[0m\u001b[0m\n",
            "\u001b[0;32m/usr/local/lib/python3.11/dist-packages/google/colab/_message.py\u001b[0m in \u001b[0;36mblocking_request\u001b[0;34m(request_type, request, timeout_sec, parent)\u001b[0m\n\u001b[1;32m    174\u001b[0m       \u001b[0mrequest_type\u001b[0m\u001b[0;34m,\u001b[0m \u001b[0mrequest\u001b[0m\u001b[0;34m,\u001b[0m \u001b[0mparent\u001b[0m\u001b[0;34m=\u001b[0m\u001b[0mparent\u001b[0m\u001b[0;34m,\u001b[0m \u001b[0mexpect_reply\u001b[0m\u001b[0;34m=\u001b[0m\u001b[0;32mTrue\u001b[0m\u001b[0;34m\u001b[0m\u001b[0;34m\u001b[0m\u001b[0m\n\u001b[1;32m    175\u001b[0m   )\n\u001b[0;32m--> 176\u001b[0;31m   \u001b[0;32mreturn\u001b[0m \u001b[0mread_reply_from_input\u001b[0m\u001b[0;34m(\u001b[0m\u001b[0mrequest_id\u001b[0m\u001b[0;34m,\u001b[0m \u001b[0mtimeout_sec\u001b[0m\u001b[0;34m)\u001b[0m\u001b[0;34m\u001b[0m\u001b[0;34m\u001b[0m\u001b[0m\n\u001b[0m",
            "\u001b[0;32m/usr/local/lib/python3.11/dist-packages/google/colab/_message.py\u001b[0m in \u001b[0;36mread_reply_from_input\u001b[0;34m(message_id, timeout_sec)\u001b[0m\n\u001b[1;32m    101\u001b[0m     ):\n\u001b[1;32m    102\u001b[0m       \u001b[0;32mif\u001b[0m \u001b[0;34m'error'\u001b[0m \u001b[0;32min\u001b[0m \u001b[0mreply\u001b[0m\u001b[0;34m:\u001b[0m\u001b[0;34m\u001b[0m\u001b[0;34m\u001b[0m\u001b[0m\n\u001b[0;32m--> 103\u001b[0;31m         \u001b[0;32mraise\u001b[0m \u001b[0mMessageError\u001b[0m\u001b[0;34m(\u001b[0m\u001b[0mreply\u001b[0m\u001b[0;34m[\u001b[0m\u001b[0;34m'error'\u001b[0m\u001b[0;34m]\u001b[0m\u001b[0;34m)\u001b[0m\u001b[0;34m\u001b[0m\u001b[0;34m\u001b[0m\u001b[0m\n\u001b[0m\u001b[1;32m    104\u001b[0m       \u001b[0;32mreturn\u001b[0m \u001b[0mreply\u001b[0m\u001b[0;34m.\u001b[0m\u001b[0mget\u001b[0m\u001b[0;34m(\u001b[0m\u001b[0;34m'data'\u001b[0m\u001b[0;34m,\u001b[0m \u001b[0;32mNone\u001b[0m\u001b[0;34m)\u001b[0m\u001b[0;34m\u001b[0m\u001b[0;34m\u001b[0m\u001b[0m\n\u001b[1;32m    105\u001b[0m \u001b[0;34m\u001b[0m\u001b[0m\n",
            "\u001b[0;31mMessageError\u001b[0m: Error: credential propagation was unsuccessful"
          ]
        }
      ]
    },
    {
      "cell_type": "markdown",
      "source": [
        "Instalamos y configuramos PySpark"
      ],
      "metadata": {
        "id": "09eCiyVWBxyM"
      }
    },
    {
      "cell_type": "code",
      "execution_count": 9,
      "metadata": {
        "id": "f2-tzTk4BYX8"
      },
      "outputs": [],
      "source": [
        "# Instalar Apache Spark y Java\n",
        "!apt-get install openjdk-8-jdk-headless -qq > /dev/null\n",
        "!wget -q https://downloads.apache.org/spark/spark-3.5.5/spark-3.5.5-bin-hadoop3.tgz\n",
        "!tar xf spark-3.5.5-bin-hadoop3.tgz"
      ]
    },
    {
      "cell_type": "code",
      "source": [
        "!pip install -q findspark"
      ],
      "metadata": {
        "id": "ZNYp-0MTDm5N"
      },
      "execution_count": 10,
      "outputs": []
    },
    {
      "cell_type": "markdown",
      "source": [
        "Configuramos la variables de entorno"
      ],
      "metadata": {
        "id": "ZJmrhCbzDX9Z"
      }
    },
    {
      "cell_type": "code",
      "source": [
        "import os\n",
        "os.environ[\"JAVA_HOME\"] = \"/usr/lib/jvm/java-8-openjdk-amd64\"\n",
        "os.environ[\"SPARK_HOME\"] = \"/content/spark-3.5.5-bin-hadoop3\""
      ],
      "metadata": {
        "id": "-8DQ5REWEN2Q"
      },
      "execution_count": 12,
      "outputs": []
    },
    {
      "cell_type": "code",
      "source": [
        "import findspark\n",
        "findspark.init()"
      ],
      "metadata": {
        "id": "Fj5DjE07DbP1"
      },
      "execution_count": 13,
      "outputs": []
    },
    {
      "cell_type": "markdown",
      "source": [
        "Importamos Spark y creamos una sesión llamada 'Practica_Spark'"
      ],
      "metadata": {
        "id": "1bHnhFioEcK5"
      }
    },
    {
      "cell_type": "code",
      "source": [
        "from pyspark.sql import SparkSession\n",
        "\n",
        "spark = SparkSession.builder.master(\"local[*]\").appName(\"Practica_Spark\").getOrCreate()\n",
        "sc = spark.sparkContext"
      ],
      "metadata": {
        "id": "VfCousHLEST6"
      },
      "execution_count": 14,
      "outputs": []
    },
    {
      "cell_type": "markdown",
      "source": [
        "Ejercicio 1. Arquitectura Big Data. Apache Spark.\n",
        "\n",
        "1.   Generar un RDD que contenga los valores [74,22, 6,0,22, 10, 5, 10, 12]\n",
        "2.   Mostrar los valores máximos y mínimos del RDD.\n",
        "3.   Calcular la suma de todos los valores.\n",
        "4.   Generar un nuevo RDD fruto de sumar diez unidades a cada elemento.\n",
        "5.   Generar un nuevo RDD que contenga los valores únicos del RDD original."
      ],
      "metadata": {
        "id": "wvJ90dJNFfRP"
      }
    },
    {
      "cell_type": "code",
      "source": [
        "# Creamos el RDD con la lista de valores\n",
        "numeros = [74, 22, -6, 0, 22, 10, 5, 10, 12]\n",
        "rdd = sc.parallelize(numeros)\n",
        "\n",
        "# Mostramos los elemento de la lista del RDD\n",
        "print(\"Los valores del RDD: \", rdd.collect())"
      ],
      "metadata": {
        "colab": {
          "base_uri": "https://localhost:8080/"
        },
        "id": "D7VVhTbyGHeQ",
        "outputId": "842e3f4a-5992-43fa-efc7-2e88005f8063"
      },
      "execution_count": 15,
      "outputs": [
        {
          "output_type": "stream",
          "name": "stdout",
          "text": [
            "Los valores del RDD:  [74, 22, -6, 0, 22, 10, 5, 10, 12]\n"
          ]
        }
      ]
    },
    {
      "cell_type": "code",
      "source": [
        "# Mostramos el valor mínimo y máximo del RDD\n",
        "print(f\"El valor mínimo es {rdd.min()}\")\n",
        "print(f\"El valor máximo es {rdd.max()}\")"
      ],
      "metadata": {
        "colab": {
          "base_uri": "https://localhost:8080/"
        },
        "id": "YFFg-orgG5f1",
        "outputId": "3c3952b9-ae8b-4d57-fa9d-0694be979772"
      },
      "execution_count": 16,
      "outputs": [
        {
          "output_type": "stream",
          "name": "stdout",
          "text": [
            "El valor mínimo es -6\n",
            "El valor máximo es 74\n"
          ]
        }
      ]
    },
    {
      "cell_type": "code",
      "source": [
        "# Procedemos con el calculo de todos los valores de la lista\n",
        "print(f\"La suma de todos los valores es {rdd.sum()}\")"
      ],
      "metadata": {
        "colab": {
          "base_uri": "https://localhost:8080/"
        },
        "id": "SJRwaixfHsax",
        "outputId": "cdfa949a-a94a-4e51-9671-3489513f1d71"
      },
      "execution_count": 17,
      "outputs": [
        {
          "output_type": "stream",
          "name": "stdout",
          "text": [
            "La suma de todos los valores es 149\n"
          ]
        }
      ]
    },
    {
      "cell_type": "code",
      "source": [
        "# Generamos un nuevo RDD sumando diez unidades a cada elemento\n",
        "rdd_sumado = rdd.map(lambda x: x + 10)\n",
        "print(f\"El nuevo RDD es {rdd_sumado.collect()}\")"
      ],
      "metadata": {
        "colab": {
          "base_uri": "https://localhost:8080/"
        },
        "id": "GNnTjE96H1R-",
        "outputId": "ea9ff145-4de4-41f3-855a-569c75d666fa"
      },
      "execution_count": 18,
      "outputs": [
        {
          "output_type": "stream",
          "name": "stdout",
          "text": [
            "El nuevo RDD es [84, 32, 4, 10, 32, 20, 15, 20, 22]\n"
          ]
        }
      ]
    },
    {
      "cell_type": "code",
      "source": [
        "# Obtenemos los valores únicos del RDD\n",
        "rdd_unicos = rdd.distinct()\n",
        "print(f\"El nuevo RDD es {rdd_unicos.collect()}\")"
      ],
      "metadata": {
        "colab": {
          "base_uri": "https://localhost:8080/"
        },
        "id": "OCSy3aIYIBQC",
        "outputId": "f0f802d4-e67d-48bc-b46c-f6ea979846f9"
      },
      "execution_count": 19,
      "outputs": [
        {
          "output_type": "stream",
          "name": "stdout",
          "text": [
            "El nuevo RDD es [74, 22, -6, 0, 10, 12, 5]\n"
          ]
        }
      ]
    },
    {
      "cell_type": "markdown",
      "source": [
        "Ejercicio 2. Arquitectura Big Data. Apache Spark\n",
        "Usando Google Colab, implementaremos el código pyspark necesario para\n",
        "1. Generar un cuenta palabra que calcule el número de veces que aparece cada una en el fichero\n",
        "loremipsum.txt\n",
        "2. Mostrar el conteo de palabras de forma descendente, de manera que en primer lugar se encuentre aquella\n",
        "con mayor número de apariciones\n",
        "3. Usando el RDD anterior, debemos generar uno nuevo que contenga solo aquellas palabras con tamaño mayor\n",
        "o igual a 7\n",
        "4. Representar este último RDD en mayúscula."
      ],
      "metadata": {
        "id": "4Kv8htCkIMLe"
      }
    },
    {
      "cell_type": "code",
      "source": [
        "# Cargar el archivo en un RDD\n",
        "rdd_texto = sc.textFile(\"/content/loremipsum.txt\")\n",
        "\n",
        "# Separar las palabras usando flatMap y hacer el conteo\n",
        "rdd_palabras = rdd_texto.flatMap(lambda linea: linea.split(\" \"))\n",
        "rdd_conteo = rdd_palabras.map(lambda palabra: (palabra, 1)).reduceByKey(lambda a, b: a + b)\n",
        "\n",
        "# Mostrar el conteo de palabras\n",
        "print(\"Conteo de palabras:\", rdd_conteo.collect())"
      ],
      "metadata": {
        "colab": {
          "base_uri": "https://localhost:8080/"
        },
        "id": "-TS_FYGbIgwa",
        "outputId": "0b12589d-5be3-47af-b87f-88f192b5cfe2"
      },
      "execution_count": 27,
      "outputs": [
        {
          "output_type": "stream",
          "name": "stdout",
          "text": [
            "Conteo de palabras: [('Lorem', 1), ('dolor', 3), ('adipiscing', 1), ('Nunc', 1), ('non', 4), ('libero.', 1), ('Donec', 4), ('at', 3), ('commodo,', 1), ('lorem', 3), ('vitae,', 1), ('nisi', 2), ('at,', 1), ('sagittis,', 1), ('nec', 3), ('Ut', 5), ('elementum', 3), ('et', 4), ('semper,', 2), ('turpis', 1), ('Aliquam', 1), ('nisl', 2), ('cursus', 1), ('ut,', 1), ('ante.', 1), ('Duis', 3), ('ut', 2), ('efficitur', 2), ('rhoncus.', 1), ('luctus', 4), ('turpis.', 3), ('dui,', 1), ('quis', 5), ('nec,', 1), ('nibh.', 1), ('Suspendisse', 1), ('fringilla', 1), ('neque', 2), ('vehicula,', 1), ('sagittis', 3), ('nulla', 1), ('Nam', 2), ('enim', 2), ('posuere', 1), ('massa.', 1), ('Cras', 1), ('erat.', 2), ('sed', 5), ('sapien,', 2), ('porttitor', 1), ('Curabitur', 1), ('magna', 1), ('ac', 2), ('lectus,', 1), ('odio.', 1), ('quis,', 1), ('Mauris', 1), ('ante', 3), ('ultricies.', 1), ('lectus', 1), ('tristique.', 1), ('mollis', 2), ('tortor.', 1), ('Vivamus', 1), ('lacus,', 1), ('molestie', 1), ('mi', 1), ('sem.', 1), ('leo', 2), ('neque,', 1), ('tortor', 1), ('interdum,', 1), ('penatibus', 1), ('dis', 1), ('nascetur', 1), ('ipsum.', 2), ('sodales', 2), ('Nulla', 2), ('massa', 2), ('consequat', 1), ('vel', 1), ('sapien.', 1), ('iaculis,', 1), ('rhoncus', 1), ('interdum', 1), ('nisi,', 1), ('id', 1), ('eget.', 1), ('ipsum', 2), ('sit', 5), ('amet,', 1), ('consectetur', 2), ('elit.', 1), ('gravida', 4), ('varius', 2), ('lorem.', 1), ('arcu', 1), ('purus,', 1), ('pharetra', 1), ('in', 3), ('suscipit', 1), ('iaculis', 2), ('neque.', 1), ('Nullam', 1), ('malesuada', 2), ('tellus', 1), ('mauris', 3), ('fermentum', 2), ('quam', 2), ('vestibulum.', 1), ('libero', 2), ('a', 6), ('ullamcorper', 2), ('cursus.', 1), ('tellus,', 1), ('augue', 2), ('tristique', 1), ('dictum', 2), ('ornare', 1), ('orci', 2), ('Sed', 3), ('eu', 5), ('maximus,', 1), ('et,', 1), ('Vestibulum', 1), ('metus', 1), ('tempor', 2), ('diam', 1), ('euismod.', 1), ('lacus', 1), ('vitae', 5), ('congue', 2), ('venenatis', 2), ('Quisque', 1), ('porta.', 1), ('condimentum', 1), ('dolor.', 1), ('aliquam', 1), ('aliquet', 1), ('eros', 2), ('elit,', 1), ('tempus', 1), ('purus.', 1), ('convallis', 1), ('mauris,', 1), ('amet', 4), ('scelerisque', 1), ('blandit', 1), ('Fusce', 1), ('sapien', 1), ('eget', 1), ('erat', 3), ('purus', 2), ('vel,', 1), ('finibus', 1), ('molestie,', 1), ('facilisis', 1), ('ex.', 1), ('felis', 1), ('feugiat.', 1), ('Orci', 1), ('natoque', 1), ('magnis', 1), ('parturient', 1), ('montes,', 1), ('ridiculus', 1), ('mus.', 1), ('ex', 1), ('viverra', 1), ('euismod', 1), ('tempus,', 2), ('facilisi.', 1), ('consequat,', 1), ('lacinia', 1)]\n"
          ]
        }
      ]
    },
    {
      "cell_type": "code",
      "source": [
        "# Mostramos el conteo de palabras en formato descentente\n",
        "rdd_orden = rdd_conteo.sortBy(lambda x: x[1], ascending = False)\n",
        "print(\"El conteo de palabras en formato descendente es: \", rdd_orden.collect())"
      ],
      "metadata": {
        "colab": {
          "base_uri": "https://localhost:8080/"
        },
        "id": "VA3RGUB0KLaS",
        "outputId": "02427dc6-ef14-4809-bc54-4184d7042594"
      },
      "execution_count": 28,
      "outputs": [
        {
          "output_type": "stream",
          "name": "stdout",
          "text": [
            "El conteo de palabras en formato descendente es:  [('a', 6), ('Ut', 5), ('quis', 5), ('sed', 5), ('sit', 5), ('eu', 5), ('vitae', 5), ('non', 4), ('Donec', 4), ('et', 4), ('luctus', 4), ('gravida', 4), ('amet', 4), ('dolor', 3), ('at', 3), ('lorem', 3), ('nec', 3), ('elementum', 3), ('Duis', 3), ('turpis.', 3), ('sagittis', 3), ('ante', 3), ('in', 3), ('mauris', 3), ('Sed', 3), ('erat', 3), ('nisi', 2), ('semper,', 2), ('nisl', 2), ('ut', 2), ('efficitur', 2), ('neque', 2), ('Nam', 2), ('enim', 2), ('erat.', 2), ('sapien,', 2), ('ac', 2), ('mollis', 2), ('leo', 2), ('ipsum.', 2), ('sodales', 2), ('Nulla', 2), ('massa', 2), ('ipsum', 2), ('consectetur', 2), ('varius', 2), ('iaculis', 2), ('malesuada', 2), ('fermentum', 2), ('quam', 2), ('libero', 2), ('ullamcorper', 2), ('augue', 2), ('dictum', 2), ('orci', 2), ('tempor', 2), ('congue', 2), ('venenatis', 2), ('eros', 2), ('purus', 2), ('tempus,', 2), ('Lorem', 1), ('adipiscing', 1), ('Nunc', 1), ('libero.', 1), ('commodo,', 1), ('vitae,', 1), ('at,', 1), ('sagittis,', 1), ('turpis', 1), ('Aliquam', 1), ('cursus', 1), ('ut,', 1), ('ante.', 1), ('rhoncus.', 1), ('dui,', 1), ('nec,', 1), ('nibh.', 1), ('Suspendisse', 1), ('fringilla', 1), ('vehicula,', 1), ('nulla', 1), ('posuere', 1), ('massa.', 1), ('Cras', 1), ('porttitor', 1), ('Curabitur', 1), ('magna', 1), ('lectus,', 1), ('odio.', 1), ('quis,', 1), ('Mauris', 1), ('ultricies.', 1), ('lectus', 1), ('tristique.', 1), ('tortor.', 1), ('Vivamus', 1), ('lacus,', 1), ('molestie', 1), ('mi', 1), ('sem.', 1), ('neque,', 1), ('tortor', 1), ('interdum,', 1), ('penatibus', 1), ('dis', 1), ('nascetur', 1), ('consequat', 1), ('vel', 1), ('sapien.', 1), ('iaculis,', 1), ('rhoncus', 1), ('interdum', 1), ('nisi,', 1), ('id', 1), ('eget.', 1), ('amet,', 1), ('elit.', 1), ('lorem.', 1), ('arcu', 1), ('purus,', 1), ('pharetra', 1), ('suscipit', 1), ('neque.', 1), ('Nullam', 1), ('tellus', 1), ('vestibulum.', 1), ('cursus.', 1), ('tellus,', 1), ('tristique', 1), ('ornare', 1), ('maximus,', 1), ('et,', 1), ('Vestibulum', 1), ('metus', 1), ('diam', 1), ('euismod.', 1), ('lacus', 1), ('Quisque', 1), ('porta.', 1), ('condimentum', 1), ('dolor.', 1), ('aliquam', 1), ('aliquet', 1), ('elit,', 1), ('tempus', 1), ('purus.', 1), ('convallis', 1), ('mauris,', 1), ('scelerisque', 1), ('blandit', 1), ('Fusce', 1), ('sapien', 1), ('eget', 1), ('vel,', 1), ('finibus', 1), ('molestie,', 1), ('facilisis', 1), ('ex.', 1), ('felis', 1), ('feugiat.', 1), ('Orci', 1), ('natoque', 1), ('magnis', 1), ('parturient', 1), ('montes,', 1), ('ridiculus', 1), ('mus.', 1), ('ex', 1), ('viverra', 1), ('euismod', 1), ('facilisi.', 1), ('consequat,', 1), ('lacinia', 1)]\n"
          ]
        }
      ]
    },
    {
      "cell_type": "code",
      "source": [
        "# Creamos un nuevo RDD con aquellas palabras con un tamaño >= 7\n",
        "rdd_filtrado = rdd_orden.filter(lambda x: len(x[0]) >= 7)\n",
        "print(\"El nuevo RDD con palabras de tamaño >= 7 es: \", rdd_filtrado.collect())"
      ],
      "metadata": {
        "colab": {
          "base_uri": "https://localhost:8080/"
        },
        "id": "jW_42i8OKtgE",
        "outputId": "122730a0-bb2b-4af8-e935-a07bf5abb3d9"
      },
      "execution_count": 30,
      "outputs": [
        {
          "output_type": "stream",
          "name": "stdout",
          "text": [
            "El nuevo RDD con palabras de tamaño >= 7 es:  [('gravida', 4), ('elementum', 3), ('turpis.', 3), ('sagittis', 3), ('semper,', 2), ('efficitur', 2), ('sapien,', 2), ('sodales', 2), ('consectetur', 2), ('iaculis', 2), ('malesuada', 2), ('fermentum', 2), ('ullamcorper', 2), ('venenatis', 2), ('tempus,', 2), ('adipiscing', 1), ('libero.', 1), ('commodo,', 1), ('sagittis,', 1), ('Aliquam', 1), ('rhoncus.', 1), ('Suspendisse', 1), ('fringilla', 1), ('vehicula,', 1), ('posuere', 1), ('porttitor', 1), ('Curabitur', 1), ('lectus,', 1), ('ultricies.', 1), ('tristique.', 1), ('tortor.', 1), ('Vivamus', 1), ('molestie', 1), ('interdum,', 1), ('penatibus', 1), ('nascetur', 1), ('consequat', 1), ('sapien.', 1), ('iaculis,', 1), ('rhoncus', 1), ('interdum', 1), ('pharetra', 1), ('suscipit', 1), ('vestibulum.', 1), ('cursus.', 1), ('tellus,', 1), ('tristique', 1), ('maximus,', 1), ('Vestibulum', 1), ('euismod.', 1), ('Quisque', 1), ('condimentum', 1), ('aliquam', 1), ('aliquet', 1), ('convallis', 1), ('mauris,', 1), ('scelerisque', 1), ('blandit', 1), ('finibus', 1), ('molestie,', 1), ('facilisis', 1), ('feugiat.', 1), ('natoque', 1), ('parturient', 1), ('montes,', 1), ('ridiculus', 1), ('viverra', 1), ('euismod', 1), ('facilisi.', 1), ('consequat,', 1), ('lacinia', 1)]\n"
          ]
        }
      ]
    },
    {
      "cell_type": "code",
      "source": [
        "# Mostramos el RDD en mayúsculas\n",
        "rdd_upper = rdd_filtrado.map(lambda x: (x[0].upper(), x[1]))\n",
        "print(\"RDD con las palabras en mayúsculas:\", rdd_upper.collect())"
      ],
      "metadata": {
        "colab": {
          "base_uri": "https://localhost:8080/"
        },
        "id": "XtyiPhhnLI4-",
        "outputId": "1fb337c0-e5f8-4a94-8526-879f3e4e5110"
      },
      "execution_count": 31,
      "outputs": [
        {
          "output_type": "stream",
          "name": "stdout",
          "text": [
            "RDD con las palabras en mayúsculas: [('GRAVIDA', 4), ('ELEMENTUM', 3), ('TURPIS.', 3), ('SAGITTIS', 3), ('SEMPER,', 2), ('EFFICITUR', 2), ('SAPIEN,', 2), ('SODALES', 2), ('CONSECTETUR', 2), ('IACULIS', 2), ('MALESUADA', 2), ('FERMENTUM', 2), ('ULLAMCORPER', 2), ('VENENATIS', 2), ('TEMPUS,', 2), ('ADIPISCING', 1), ('LIBERO.', 1), ('COMMODO,', 1), ('SAGITTIS,', 1), ('ALIQUAM', 1), ('RHONCUS.', 1), ('SUSPENDISSE', 1), ('FRINGILLA', 1), ('VEHICULA,', 1), ('POSUERE', 1), ('PORTTITOR', 1), ('CURABITUR', 1), ('LECTUS,', 1), ('ULTRICIES.', 1), ('TRISTIQUE.', 1), ('TORTOR.', 1), ('VIVAMUS', 1), ('MOLESTIE', 1), ('INTERDUM,', 1), ('PENATIBUS', 1), ('NASCETUR', 1), ('CONSEQUAT', 1), ('SAPIEN.', 1), ('IACULIS,', 1), ('RHONCUS', 1), ('INTERDUM', 1), ('PHARETRA', 1), ('SUSCIPIT', 1), ('VESTIBULUM.', 1), ('CURSUS.', 1), ('TELLUS,', 1), ('TRISTIQUE', 1), ('MAXIMUS,', 1), ('VESTIBULUM', 1), ('EUISMOD.', 1), ('QUISQUE', 1), ('CONDIMENTUM', 1), ('ALIQUAM', 1), ('ALIQUET', 1), ('CONVALLIS', 1), ('MAURIS,', 1), ('SCELERISQUE', 1), ('BLANDIT', 1), ('FINIBUS', 1), ('MOLESTIE,', 1), ('FACILISIS', 1), ('FEUGIAT.', 1), ('NATOQUE', 1), ('PARTURIENT', 1), ('MONTES,', 1), ('RIDICULUS', 1), ('VIVERRA', 1), ('EUISMOD', 1), ('FACILISI.', 1), ('CONSEQUAT,', 1), ('LACINIA', 1)]\n"
          ]
        }
      ]
    }
  ]
}